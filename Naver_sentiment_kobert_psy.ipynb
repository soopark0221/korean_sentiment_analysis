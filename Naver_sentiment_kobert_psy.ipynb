{
  "nbformat": 4,
  "nbformat_minor": 0,
  "metadata": {
    "colab": {
      "name": "Naver_sentiment_kobert_psy.ipynb",
      "provenance": [],
      "collapsed_sections": [
        "aY1AX6Llcast",
        "lLML9_9A3maH"
      ],
      "mount_file_id": "1lRjrFJSfftBb63c_Paob-ksfq8FEYhPy",
      "authorship_tag": "ABX9TyNEzTUUkQAFM8Xw40OnqdPL",
      "include_colab_link": true
    },
    "kernelspec": {
      "name": "python3",
      "display_name": "Python 3"
    },
    "accelerator": "GPU"
  },
  "cells": [
    {
      "cell_type": "markdown",
      "metadata": {
        "id": "view-in-github",
        "colab_type": "text"
      },
      "source": [
        "<a href=\"https://colab.research.google.com/github/soopark0221/korean_sentiment_analysis/blob/main/Naver_sentiment_kobert_psy.ipynb\" target=\"_parent\"><img src=\"https://colab.research.google.com/assets/colab-badge.svg\" alt=\"Open In Colab\"/></a>"
      ]
    },
    {
      "cell_type": "markdown",
      "metadata": {
        "id": "65Xq0tWOU509"
      },
      "source": [
        "# Load dataset"
      ]
    },
    {
      "cell_type": "code",
      "metadata": {
        "id": "PpERHRfJpTbO"
      },
      "source": [
        "pip install transformers "
      ],
      "execution_count": null,
      "outputs": []
    },
    {
      "cell_type": "code",
      "metadata": {
        "id": "toZNgXtsFOs7"
      },
      "source": [
        "!git clone https://github.com/SKTBrain/KoBERT.git\r\n",
        "%cd KoBERT\r\n",
        "!pip install -r requirements.txt\r\n",
        "!pip install ."
      ],
      "execution_count": null,
      "outputs": []
    },
    {
      "cell_type": "code",
      "metadata": {
        "id": "zDqXgqqev9RM"
      },
      "source": [
        "import pandas as pd\r\n",
        "import numpy as np\r\n",
        "import matplotlib.pyplot as plt\r\n",
        "import seaborn as sns\r\n",
        "\r\n",
        "from sklearn.model_selection import train_test_split\r\n",
        "import torch\r\n",
        "import torch.nn as nn\r\n",
        "from torch.utils.data import TensorDataset, DataLoader, RandomSampler, SequentialSampler\r\n",
        "from keras.preprocessing import sequence\r\n",
        "\r\n",
        "from transformers import BertModel, BertTokenizer\r\n",
        "from transformers.tokenization_utils_base import PreTrainedTokenizerBase\r\n",
        "\r\n",
        "from kobert.pytorch_kobert import get_pytorch_kobert_model\r\n",
        "from kobert.utils import get_tokenizer\r\n",
        "import gluonnlp as nlp\r\n",
        "import sklearn.metrics"
      ],
      "execution_count": null,
      "outputs": []
    },
    {
      "cell_type": "code",
      "metadata": {
        "id": "xCpZCCp36rkJ"
      },
      "source": [
        "train_data = pd.read_csv('/content/drive/MyDrive/BERT/ratings_train.txt', sep = '\\t')\r\n",
        "X = train_data.document\r\n",
        "Y = train_data.label\r\n",
        "\r\n",
        "x_train, x_test, y_train, y_test = train_test_split(X,Y,test_size = 0.2, random_state=1)\r\n",
        "\r\n",
        "print('train_data : {}. test_data : {}'.format(len(x_train), len(x_test)))"
      ],
      "execution_count": null,
      "outputs": []
    },
    {
      "cell_type": "code",
      "metadata": {
        "id": "47yolrZb81b4"
      },
      "source": [
        "x_train = [str(doc) for doc in x_train]\r\n",
        "x_test = [str(doc) for doc in x_test]\r\n",
        "y_train = np.array(y_train)\r\n",
        "y_test = np.array(y_test)"
      ],
      "execution_count": null,
      "outputs": []
    },
    {
      "cell_type": "markdown",
      "metadata": {
        "id": "G4HIkjlL79ra"
      },
      "source": [
        "check imbalance"
      ]
    },
    {
      "cell_type": "code",
      "metadata": {
        "id": "_TXQ_i4rlutW"
      },
      "source": [
        "count = train_data.label.value_counts()\n",
        "print(count)\n",
        "\n",
        "x = np.array(count.index)\n",
        "y = np.array(count.values)\n",
        "plt.figure(figsize=(8,5))\n",
        "sns.barplot(x,y)\n",
        "plt.xlabel('Emotion')\n",
        "new = plt.ylabel('Number of sentences')"
      ],
      "execution_count": null,
      "outputs": []
    },
    {
      "cell_type": "markdown",
      "metadata": {
        "id": "kLpmueYhc6V2"
      },
      "source": [
        "check review length"
      ]
    },
    {
      "cell_type": "code",
      "metadata": {
        "id": "5BQbhOnLcvB1"
      },
      "source": [
        "review_len = [len(str(doc)) for doc in train_data.document]\n",
        "\n",
        "pd.Series(review_len).hist()\n",
        "plt.show()\n",
        "pd.Series(review_len).describe()"
      ],
      "execution_count": null,
      "outputs": []
    },
    {
      "cell_type": "markdown",
      "metadata": {
        "id": "xXM4-4NjFL9B"
      },
      "source": [
        "#Preprocessing"
      ]
    },
    {
      "cell_type": "code",
      "metadata": {
        "id": "hgbbteV1KCP3"
      },
      "source": [
        "kobertmodel, vocab = get_pytorch_kobert_model()\r\n",
        "tokenizer = get_tokenizer()\r\n",
        "tok = nlp.data.BERTSPTokenizer(tokenizer, vocab, lower = False) #tokenize\r\n",
        "transform = nlp.data.BERTSentenceTransform(tok, 40, pad = True, pair = False) #embedding"
      ],
      "execution_count": null,
      "outputs": []
    },
    {
      "cell_type": "code",
      "metadata": {
        "id": "Fzdn0tY5Lf6A"
      },
      "source": [
        "def Convert_to_id(data):\r\n",
        "  trans = [transform([i]) for i in data]\r\n",
        "  masks = []\r\n",
        "  ids = []\r\n",
        "  for i in range(len(data)):\r\n",
        "    mask = [int(j>1) for j in trans[i][0]]\r\n",
        "    masks.append(mask)\r\n",
        "    ids.append(trans[i][0])\r\n",
        "  return ids, masks"
      ],
      "execution_count": null,
      "outputs": []
    },
    {
      "cell_type": "code",
      "metadata": {
        "id": "h1SeYYxQM3ok"
      },
      "source": [
        "def Get_dataloader(x, y, batchsize):\r\n",
        "  x_tensor = torch.tensor(Convert_to_id(x)[0], dtype= torch.long)\r\n",
        "  a_tensor = torch.tensor(Convert_to_id(x)[1], dtype = torch.long)\r\n",
        "  y_tensor = torch.tensor(y, dtype = torch.long)\r\n",
        "  my_dataset = TensorDataset(x_tensor.cuda(),y_tensor.cuda(), a_tensor.cuda())\r\n",
        "  my_dataloader = DataLoader(my_dataset, batch_size = batchsize, sampler = RandomSampler(my_dataset))\r\n",
        "  return my_dataloader"
      ],
      "execution_count": null,
      "outputs": []
    },
    {
      "cell_type": "code",
      "metadata": {
        "id": "sRuWf6kHU80e"
      },
      "source": [
        "batchsize = 16\r\n",
        "train_dataloader = Get_dataloader(x_train,y_train, batchsize)\r\n",
        "test_dataloader = Get_dataloader(x_test, y_test, batchsize)"
      ],
      "execution_count": null,
      "outputs": []
    },
    {
      "cell_type": "markdown",
      "metadata": {
        "id": "6uj8aE_y80GO"
      },
      "source": [
        "#Modeling"
      ]
    },
    {
      "cell_type": "code",
      "metadata": {
        "id": "ir2ZSWYyKArD"
      },
      "source": [
        "class koModel(nn.Module):\r\n",
        "  def __init__(self, kobertmodel):\r\n",
        "    super().__init__()\r\n",
        "    self.bert_model = kobertmodel\r\n",
        "    self.linear = torch.nn.Linear(768,2)\r\n",
        "  \r\n",
        "  def forward(self, input_tensor, attention_masks):\r\n",
        "    pooler = self.bert_model(input_ids = input_tensor, attention_mask = attention_masks)[1]\r\n",
        "    logit = self.linear(pooler) # sequence_output, pooled_output = model(input_ids, attention_mask, token_type_ids)\r\n",
        "    return logit"
      ],
      "execution_count": null,
      "outputs": []
    },
    {
      "cell_type": "code",
      "metadata": {
        "id": "aFG_E15WINK5"
      },
      "source": [
        "model = koModel(kobertmodel)\r\n",
        "model.cuda()"
      ],
      "execution_count": null,
      "outputs": []
    },
    {
      "cell_type": "markdown",
      "metadata": {
        "id": "GRLwyiKi88it"
      },
      "source": [
        "#Training"
      ]
    },
    {
      "cell_type": "code",
      "metadata": {
        "id": "LWwlKGGpW6m0"
      },
      "source": [
        "from torch.optim.lr_scheduler import StepLR\r\n",
        "lr = 0.00001\r\n",
        "optimizer = torch.optim.AdamW(model.parameters(), lr=lr)\r\n",
        "scheduler = StepLR(optimizer, step_size=1, gamma=0.5)\r\n",
        "epochs = 4\r\n",
        "criterion = torch.nn.CrossEntropyLoss()"
      ],
      "execution_count": null,
      "outputs": []
    },
    {
      "cell_type": "code",
      "metadata": {
        "id": "qovevsxX0RZf"
      },
      "source": [
        "epochs = 4\n",
        "lr = 0.000005\n",
        "\n",
        "criterion = torch.nn.CrossEntropyLoss()\n",
        "optimizer = torch.optim.AdamW(model.parameters(), lr = lr)"
      ],
      "execution_count": null,
      "outputs": []
    },
    {
      "cell_type": "code",
      "metadata": {
        "id": "x-4SPoWv01jt"
      },
      "source": [
        "for epoch in range(epochs):\n",
        "  train_loss = 0\n",
        "  for x,y,a in train_dataloader:\n",
        "    model.train()\n",
        "    out = model(x,a)\n",
        "    loss = criterion(out, y)\n",
        "    loss.backward() #backprop. gradient calc\n",
        "    optimizer.step() #update w\n",
        "    optimizer.zero_grad() #reset gradient\n",
        "    train_loss += loss.item()\n",
        "  avg_train_loss = train_loss/len(x_train)\n",
        "  print('epoch : {}'.format(epoch+1))\n",
        "  print('avg train loss : {}'.format(avg_train_loss))\n",
        "  scheduler.step()\n",
        "  print('LR:', scheduler.get_last_lr()) \n",
        "\n",
        "  correct, total, test_loss = 0, 0, 0\n",
        "  pred = []\n",
        "  true = []\n",
        "  for x_t,y_t,a_t in test_dataloader:\n",
        "    model.eval()\n",
        "    with torch.no_grad():\n",
        "      testout = model(x_t,a_t)\n",
        "      testloss = criterion(testout, y_t)\n",
        "      _,predicted = torch.max(testout,dim=1) #torch.max returns (value, index)\n",
        "      pred += predicted.tolist()\n",
        "      true += y_t.tolist()\n",
        "      total += y_t.size(0) #batchsize 16\n",
        "      correct += (predicted == y_t).sum().item()\n",
        "      test_loss += testloss.item()\n",
        "  accuracy = correct/total\n",
        "  f1 = sklearn.metrics.f1_score(true,pred, average = 'binary')\n",
        "  recall = sklearn.metrics.recall_score(true,pred,average='binary')\n",
        "  avg_test_loss = test_loss/len(x_test)\n",
        "  print('avg test loss : {}'.format(avg_test_loss))\n",
        "  print('accuracy: {}'.format(accuracy))\n",
        "  print('f1: {}'.format(f1))\n",
        "  print('recall: {}'.format(recall))\n",
        "  print('----------------------------------------')"
      ],
      "execution_count": null,
      "outputs": []
    },
    {
      "cell_type": "markdown",
      "metadata": {
        "id": "Q4lwIH1-Nl1N"
      },
      "source": [
        "Model Save"
      ]
    },
    {
      "cell_type": "code",
      "metadata": {
        "id": "CODDHqi5Ngub"
      },
      "source": [
        "model_path = '/content/drive/MyDrive/BERT/naverr_kobert_weights.pt'\r\n",
        "torch.save(model.state_dict(),model_path)"
      ],
      "execution_count": null,
      "outputs": []
    },
    {
      "cell_type": "markdown",
      "metadata": {
        "id": "H4kmNRV2Nfl2"
      },
      "source": [
        "#Test"
      ]
    },
    {
      "cell_type": "code",
      "metadata": {
        "id": "56Fw5R_F3BcF"
      },
      "source": [
        "import pandas as pd\r\n",
        "test = pd.read_csv('/content/drive/MyDrive/BERT/ko_data_2.csv', engine='python')\r\n",
        "\r\n",
        "pred_list =[]\r\n",
        "sent_test = [sent for sent in test.Id]\r\n",
        "trans = [transform([i]) for i in sent_test]"
      ],
      "execution_count": null,
      "outputs": []
    },
    {
      "cell_type": "code",
      "metadata": {
        "id": "1IPctDE8ItMs"
      },
      "source": [
        "pred_list = []\r\n",
        "for idx, s in enumerate(sent_test):\r\n",
        "  mask = [int(j>1) for j in trans[idx][0]]\r\n",
        "  id = trans[idx][0]\r\n",
        "  mask=torch.tensor(mask, dtype = torch.long).unsqueeze(0).cuda()\r\n",
        "  id = torch.tensor(id, dtype = torch.long).unsqueeze(0).cuda()\r\n",
        "  output = model(id, mask)\r\n",
        "  _,predicted = torch.max(output,dim=1)\r\n",
        "  pred_list+=predicted.tolist()"
      ],
      "execution_count": null,
      "outputs": []
    },
    {
      "cell_type": "code",
      "metadata": {
        "id": "GFyFjFda8k3_"
      },
      "source": [
        "pred = pd.DataFrame(pred_list, columns = ['Predicted'])\r\n",
        "pred.to_csv('/content/drive/MyDrive/BERT/sample_naver.csv')"
      ],
      "execution_count": null,
      "outputs": []
    }
  ]
}